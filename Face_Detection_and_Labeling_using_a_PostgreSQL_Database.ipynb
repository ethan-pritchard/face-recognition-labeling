{
  "nbformat": 4,
  "nbformat_minor": 0,
  "metadata": {
    "colab": {
      "name": "Face Detection and Labeling using a PostgreSQL Database.ipynb",
      "provenance": [],
      "collapsed_sections": [],
      "authorship_tag": "ABX9TyO8WAhBqkZrphCNuKpNjG+2",
      "include_colab_link": true
    },
    "kernelspec": {
      "name": "python3",
      "display_name": "Python 3"
    }
  },
  "cells": [
    {
      "cell_type": "markdown",
      "metadata": {
        "id": "view-in-github",
        "colab_type": "text"
      },
      "source": [
        "<a href=\"https://colab.research.google.com/github/ethan-pritchard/face-recognition-labeling/blob/main/Face_Detection_and_Labeling_using_a_PostgreSQL_Database.ipynb\" target=\"_parent\"><img src=\"https://colab.research.google.com/assets/colab-badge.svg\" alt=\"Open In Colab\"/></a>"
      ]
    },
    {
      "cell_type": "markdown",
      "metadata": {
        "id": "bT4RD0vzOUDf"
      },
      "source": [
        "# Face Detection and Labeling using a PostgreSQL Database\r\n",
        "\r\n",
        "This notebook utilizes the [facial recognition](https://github.com/ageitgey/face_recognition) library to recognize faces, encode the faces, and compare the encoded faces to known faces to find the closest match. The library itself handles the process of detecting faces and encoding them.\r\n",
        "\r\n",
        "Facial recognition is an emerging technology and its integration into everyday technology is exponentially increasing. In an effort to educate myself on the subject, I propose the `FaceDetectionController` and an adjacent PostgreSQL database as a solution to many problems facial recognition aims to tackle. These primary three problems facial recognition aims to tackle are:\r\n",
        "\r\n",
        "1) Assigning a unique identifier to known people and associating metadata to that unique identifier,\r\n",
        "\r\n",
        "2) Storing faces long-term and associating faces with people using the person's unique identifier, and\r\n",
        "\r\n",
        "3) Being able to explictly decide who the runtime can recognize by adding and removing known people from the runtime.\r\n",
        "\r\n",
        "The `FaceDetectionController` is a solution for all three of these problems. It provides methods to find known people and get their name. It provides methods to save faces long-term with an attached face. It facilitates an artificial runtime by storing a collection of loaded users and their respective faces so when the `runtime_predict` method is called, the [facial recognition](https://github.com/ageitgey/face_recognition) library can easily find the best match (if there is a match to find)."
      ]
    },
    {
      "cell_type": "markdown",
      "metadata": {
        "id": "a3y2irqI-KZZ"
      },
      "source": [
        "### The PostgreSQL Database\r\n",
        "\r\n",
        "This notebook introduces a database schema comprised of two tables: a users table and a faces table. The users table will store users as unique identifiers (UUIDs) and attach data to their identifier, such as name or workplace. The faces table will store individual face vectors and associate them with a unique user via their unique identifier. This is a **one-to-many** relationship between users and faces (**One** user has **many** faces). \r\n",
        "\r\n",
        "Here's a diagram of this schema:\r\n",
        "\r\n",
        "![](https://i.imgur.com/Oc4XL1g.png)\r\n",
        "\r\n",
        "The primary benefits of this schema is easy integration into existing user databases. In the case of an existing schema already in place for user management, the **facedetect.users** table becomes a combination table facilitating a **one-to-one** relationship between the existing user identifier and the new unique identifier used exclusively for face detection.\r\n",
        "\r\n",
        "Here's a diagram showing an example of how this schema would be integrated into an existing user management schema:\r\n",
        "\r\n",
        "![](https://i.imgur.com/A9KVx9x.png)"
      ]
    },
    {
      "cell_type": "markdown",
      "metadata": {
        "id": "4_5Og9-VCPzv"
      },
      "source": [
        "The schema discussed above is laid out in my `schema.sql` file:\r\n",
        "\r\n",
        "```sql\r\n",
        "-- UUID extension\r\n",
        "CREATE EXTENSION IF NOT EXISTS \"uuid-ossp\";\r\n",
        "\r\n",
        "-- Face detection schema\r\n",
        "CREATE SCHEMA IF NOT EXISTS facedetect;\r\n",
        "\r\n",
        "-- Table for storing users and their user data\r\n",
        "CREATE TABLE IF NOT EXISTS facedetect.users (\r\n",
        "\tid   uuid    DEFAULT uuid_generate_v4(),\r\n",
        "\tname VARCHAR NOT NULL,\r\n",
        "\tPRIMARY KEY (id)\r\n",
        ");\r\n",
        "\r\n",
        "-- Table for storing face vectors and binding those faces to known users\r\n",
        "CREATE TABLE IF NOT EXISTS facedetect.faces (\r\n",
        "\tface_id uuid                   DEFAULT uuid_generate_v4(),\r\n",
        "\tuser_id uuid                   NOT NULL,\r\n",
        "\tvector  double precision ARRAY NOT NULL,\r\n",
        "\tPRIMARY KEY (face_id),\r\n",
        "\tCONSTRAINT check_user FOREIGN KEY(user_id) REFERENCES users(id)\r\n",
        ");\r\n",
        "```"
      ]
    },
    {
      "cell_type": "markdown",
      "metadata": {
        "id": "XDWwOwCDJHTO"
      },
      "source": [
        "### The FaceDetectionController"
      ]
    },
    {
      "cell_type": "code",
      "metadata": {
        "colab": {
          "base_uri": "https://localhost:8080/"
        },
        "id": "FKIrJjfyHoja",
        "outputId": "4d067687-d24c-4f64-d150-c977253e3654"
      },
      "source": [
        "!pip install https://github.com/ageitgey/face_recognition/archive/v1.2.2.tar.gz\r\n",
        "!pip install opencv-python\r\n",
        "!pip install psycopg2"
      ],
      "execution_count": 24,
      "outputs": [
        {
          "output_type": "stream",
          "text": [
            "Collecting https://github.com/ageitgey/face_recognition/archive/v1.2.2.tar.gz\n",
            "  Using cached https://github.com/ageitgey/face_recognition/archive/v1.2.2.tar.gz\n",
            "Requirement already satisfied (use --upgrade to upgrade): face-recognition==1.2.2 from https://github.com/ageitgey/face_recognition/archive/v1.2.2.tar.gz in /usr/local/lib/python3.6/dist-packages\n",
            "Requirement already satisfied: face_recognition_models>=0.3.0 in /usr/local/lib/python3.6/dist-packages (from face-recognition==1.2.2) (0.3.0)\n",
            "Requirement already satisfied: Click>=6.0 in /usr/local/lib/python3.6/dist-packages (from face-recognition==1.2.2) (7.1.2)\n",
            "Requirement already satisfied: dlib>=19.7 in /usr/local/lib/python3.6/dist-packages (from face-recognition==1.2.2) (19.18.0)\n",
            "Requirement already satisfied: numpy in /usr/local/lib/python3.6/dist-packages (from face-recognition==1.2.2) (1.19.5)\n",
            "Requirement already satisfied: Pillow in /usr/local/lib/python3.6/dist-packages (from face-recognition==1.2.2) (7.0.0)\n",
            "Building wheels for collected packages: face-recognition\n",
            "  Building wheel for face-recognition (setup.py) ... \u001b[?25l\u001b[?25hdone\n",
            "  Created wheel for face-recognition: filename=face_recognition-1.2.2-py2.py3-none-any.whl size=15246 sha256=34a224c77bb061e1a49b95cff3783fcb992c68d9b1a0c2c2da431258bd930c44\n",
            "  Stored in directory: /tmp/pip-ephem-wheel-cache-ig_vvl_y/wheels/b1/ad/50/70c4119897208fd1bd524711e9fff3400b1621a769a42fe34f\n",
            "Successfully built face-recognition\n",
            "Requirement already satisfied: opencv-python in /usr/local/lib/python3.6/dist-packages (4.1.2.30)\n",
            "Requirement already satisfied: numpy>=1.11.3 in /usr/local/lib/python3.6/dist-packages (from opencv-python) (1.19.5)\n",
            "Requirement already satisfied: psycopg2 in /usr/local/lib/python3.6/dist-packages (2.7.6.1)\n"
          ],
          "name": "stdout"
        }
      ]
    },
    {
      "cell_type": "code",
      "metadata": {
        "id": "v69om4epHaLU"
      },
      "source": [
        "import face_recognition\r\n",
        "import numpy as np\r\n",
        "import psycopg2"
      ],
      "execution_count": null,
      "outputs": []
    },
    {
      "cell_type": "code",
      "metadata": {
        "id": "6JEbQLuFeVIf"
      },
      "source": [
        "class FaceDetectionUser:\r\n",
        "  # For now, users only have their unique id and \r\n",
        "  def __init__(self, id, name):\r\n",
        "    self.id = id\r\n",
        "    self.name = name"
      ],
      "execution_count": null,
      "outputs": []
    },
    {
      "cell_type": "code",
      "metadata": {
        "id": "T18IdL7AZNt3"
      },
      "source": [
        "class FaceDetectionController:\r\n",
        "  # When a controller is created, we need to connect it to the database and run any initialization routines\r\n",
        "  def __init__(self, db={}, schema_file=None):\r\n",
        "    # Check DB settings\r\n",
        "    if not 'database' in db: raise Exception('No database specified (key=database).')\r\n",
        "    if not 'user' in db: raise Exception('No username specified (key=user).')\r\n",
        "    if not 'password' in db: raise Exception('No password specified (key=password).')\r\n",
        "    if not 'host' in db: raise Exception('No host address specified (key=host).')\r\n",
        "    if not 'port' in db: raise Exception('No port specified (key=port).')\r\n",
        "\r\n",
        "    # Create DB connection\r\n",
        "    self.db_conn = psycopg2.connect(database=db['database'], user=db['user'], password=db['password'], host=db['host'], port=db['port'])\r\n",
        "    self.db_instance = self.db_conn.cursor()\r\n",
        "\r\n",
        "    # Create DB schema if specified\r\n",
        "    if schema_file is not None:\r\n",
        "      self.db_instance.execute(open(schema_file, 'r').read())\r\n",
        "      self.db_conn.commit()\r\n",
        "    \r\n",
        "    # Initialize our controller's runtime\r\n",
        "    self.runtime_init()\r\n",
        "\r\n",
        "  # Function to disconnect the controller once done\r\n",
        "  def disconnect(self):\r\n",
        "    self.db_instance.close()\r\n",
        "\r\n",
        "  #\r\n",
        "  # Runtime function\r\n",
        "  #\r\n",
        "\r\n",
        "  # Initializes runtime objects that allow us to load specific users and recognize their faces\r\n",
        "  def runtime_init(self):\r\n",
        "    self.runtime = {}\r\n",
        "  \r\n",
        "  # Checks our runtime for the best match\r\n",
        "  def runtime_predict(self, target):\r\n",
        "    # By default, our prediction is that we do not know whose face it is\r\n",
        "    label = None\r\n",
        "\r\n",
        "    # Check every loaded user's faces and find the closest match\r\n",
        "    for user in self.runtime:\r\n",
        "      # Get the user's faces and try and find matches\r\n",
        "      faces = self.runtime[user]\r\n",
        "      matches = face_recognition.compare_faces(faces, target)\r\n",
        "      if len(matches) <= 0: continue # If no matches found, we should leave\r\n",
        "\r\n",
        "      # Get the min distance and check if we should update our label\r\n",
        "      dist = np.min(face_recognition.face_distance(matches, target))\r\n",
        "      if label is None or dist < label[1]: label = (user, dist)\r\n",
        "\r\n",
        "    # Return the label\r\n",
        "    return label\r\n",
        "  \r\n",
        "  # Add a user to the runtime\r\n",
        "  def runtime_add_user(self, user, override=False):\r\n",
        "    # Verify the user\r\n",
        "    if not isinstance(user, FaceDetectionUser): raise Exception(\"Parameter is not a user object.\")\r\n",
        "    if user.id is None: raise Exception(\"User has no unique identifier.\")\r\n",
        "\r\n",
        "    # Check if the user is currently in the runtime\r\n",
        "    if user in self.runtime and not override: return\r\n",
        "    self.runtime[user] = self.get_faces(user)\r\n",
        "\r\n",
        "  #\r\n",
        "  # User DB functions\r\n",
        "  # \r\n",
        "\r\n",
        "  # Add a new user to the database\r\n",
        "  def create_user(self, name):\r\n",
        "    name = name.lower()\r\n",
        "    self.db_instance.execute(\"INSERT INTO facedetect.users (name) VALUES (%s) RETURNING id\", (name,))\r\n",
        "    id = self.db_instance.fetchone()[0]\r\n",
        "    return FaceDetectionUser(id=id, name=name)\r\n",
        "  \r\n",
        "  # Remove a user from the database\r\n",
        "  def remove_user(self, id):\r\n",
        "    self.db_instance.execute(\"DELETE FROM facedetect.users WHERE id=%s\", (id,))\r\n",
        "    self.db_conn.commit()\r\n",
        "  \r\n",
        "  # Get a user using their unique identifier\r\n",
        "  def get_user(self, id):\r\n",
        "    # Select user by unique id\r\n",
        "    self.db_instance.execute(\"SELECT (id, name) FROM facedetect.users WHERE id=%s\", (id,))\r\n",
        "    row = self.db_instance.fetchone()[0]\r\n",
        "    \r\n",
        "    if row is not None: return FaceDetectionUser(id=row[0], name=row[1])\r\n",
        "    return row\r\n",
        "  \r\n",
        "  # Get all users who have a specific name\r\n",
        "  # -> This blurb is useful for adding in more data for users, such as only getting users by location\r\n",
        "  def get_users_by_name(self, name):\r\n",
        "    # Select user by name\r\n",
        "    name = name.lower()\r\n",
        "    self.db_instance.execute(\"SELECT (id, name) FROM facedetect.users WHERE name=%s\", (name,))\r\n",
        "    rows = self.db_instance.fetchall()\r\n",
        "    users = []\r\n",
        "\r\n",
        "    # Create runtime objects for the users\r\n",
        "    for row in rows:\r\n",
        "      users.append(FaceDetectionUser(id=row[0], name=row[1]))\r\n",
        "    \r\n",
        "    # Return all users with this name\r\n",
        "    return users\r\n",
        "  \r\n",
        "  #\r\n",
        "  # Face DB functions\r\n",
        "  # \r\n",
        "  \r\n",
        "  # A simple helper method to load and encode the ith face in a file (Typically files only have 1 face)\r\n",
        "  def image_to_vector(self, file, i=0):\r\n",
        "    return face_recognition.face_encodings(face_recognition.load_image_file(file))[i]\r\n",
        "\r\n",
        "  # Add a face vector to the database\r\n",
        "  def create_face(self, user, face):\r\n",
        "    # Verify the user\r\n",
        "    if not isinstance(user, FaceDetectionUser): raise Exception(\"Parameter is not a user object.\")\r\n",
        "    if user.id is None: raise Exception(\"User has no unique identifier.\")\r\n",
        "\r\n",
        "    # Check if face exists\r\n",
        "    face = list(face)\r\n",
        "    self.db_instance.execute(\"SELECT (face_id) FROM facedetect.faces WHERE vector=%s::double precision[]\", (face,))\r\n",
        "    row = self.db_instance.fetchone()\r\n",
        "    if row is not None: return row[0][0]\r\n",
        "\r\n",
        "    # Add face to the database\r\n",
        "    self.db_instance.execute(\"INSERT INTO facedetect.faces (user_id, vector) VALUES (%s, %s::double precision[]) RETURNING (face_id)\", (user.id, face,))\r\n",
        "    return self.db_instance.fetchone()[0][0]\r\n",
        "  \r\n",
        "  # Remove a face vector from the database\r\n",
        "  def remove_face(self, face_id):\r\n",
        "    self.db_instance.execute(\"DELETE FROM facedetect.faces WHERE face_id=%s\", (face_id,))\r\n",
        "    self.db_conn.commit()\r\n",
        "  \r\n",
        "  # Get a face using a user's unique identifier\r\n",
        "  def get_faces(self, user):\r\n",
        "    # Verify the user\r\n",
        "    if not isinstance(user, FaceDetectionUser): raise Exception(\"Parameter is not a user object.\")\r\n",
        "    if user.id is None: raise Exception(\"User has no unique identifier.\")\r\n",
        "\r\n",
        "    # Search for faces using the user's unique id\r\n",
        "    self.db_instance.execute(\"SELECT (vector) FROM facedetect.faces WHERE user_id=%s\", (user.id,))\r\n",
        "    return self.db_instance.fetchall()\r\n",
        "  \r\n",
        "  # Get a user using a face vector\r\n",
        "  def get_user_by_face(self, face):\r\n",
        "    # Search for faces with this vector in hopes to find the attached user id\r\n",
        "    face = list(face)\r\n",
        "    self.db_instance.execute(\"SELECT (user_id) FROM facedetect.faces WHERE vector=%s::double precision[]\", (face,))\r\n",
        "    row = self.db_instance.fetchone()\r\n",
        "\r\n",
        "    # If the face is known, get the user\r\n",
        "    if row is not None: return self.get_user(row[0][0])\r\n",
        "    return None # User was not known"
      ],
      "execution_count": 20,
      "outputs": []
    },
    {
      "cell_type": "markdown",
      "metadata": {
        "id": "F3YOsEXxJEpX"
      },
      "source": [
        "### OpenCV Webcam Demo\r\n",
        "\r\n",
        "This demo will not work on Google Colab or any cloud provider! You will have to run this on your local machine.\r\n",
        "\r\n",
        "Below is an example of how to feed an OpenCV webcam stream into the `FaceDetectController` as well as an example of how to setup the controller, add a new face and user, and then load that user into the runtime. The `webcam_detect` method will loop forever continously reading the OpenCV webcam feed and inputting it into the `FaceDetectController.runtime_predict` method. If no matches are found, the face is labeled \"NOT A USER\"."
      ]
    },
    {
      "cell_type": "code",
      "metadata": {
        "id": "OxSTP73DJO6N"
      },
      "source": [
        "import cv2"
      ],
      "execution_count": null,
      "outputs": []
    },
    {
      "cell_type": "code",
      "metadata": {
        "id": "zoU1mJUOUgF_"
      },
      "source": [
        "# Method to continuously scan my webcam and detect users as they are found\r\n",
        "def webcam_detect(controller=None, skip=2):\r\n",
        "  # Create webcam feed\r\n",
        "  video_capture = cv2.VideoCapture(0)\r\n",
        "\r\n",
        "  # Continuously loop over the webcam feed and try and label faces\r\n",
        "  fs = 0 # Frames skipped counter\r\n",
        "  while True:\r\n",
        "    # Get the RGB frame\r\n",
        "    ret, frame = video_capture.read()\r\n",
        "    small_frame = cv2.resize(frame, (0, 0), fx=0.25, fy=0.25)\r\n",
        "    rgb_small_frame = small_frame[:,:,::-1]\r\n",
        "\r\n",
        "    # If we haven't reached skip count yet, we should skip this frame\r\n",
        "    if fs < skip:\r\n",
        "        fs += 1\r\n",
        "        continue\r\n",
        "    # We've skipped enough frames. Process this frame and reset counter\r\n",
        "    else: fs = 0\r\n",
        "\r\n",
        "    # Detect faces\r\n",
        "    face_locations = face_recognition.face_locations(rgb_small_frame)\r\n",
        "    face_encodings = face_recognition.face_encodings(rgb_small_frame, face_locations)\r\n",
        "\r\n",
        "    # Get names for faces\r\n",
        "    names = []\r\n",
        "    for v in face_encodings:\r\n",
        "      # By default, we don't know nothin'\r\n",
        "      label = 'NOT A USER'\r\n",
        "\r\n",
        "      # If we don't have a controller, there's no name\r\n",
        "      if controller is not None and isinstance(controller, FaceDetectionController):\r\n",
        "        # Use the controller to make a prediction\r\n",
        "        pred = controller.runtime_predict(v)\r\n",
        "        if pred is not None: label = pred[0].name\r\n",
        "      \r\n",
        "      # Add the name\r\n",
        "      names.append(label)\r\n",
        "\r\n",
        "    # Label the detected faces with their name\r\n",
        "    for (top, right, bottom, left), name in zip(face_locations, names):\r\n",
        "      # Scale the images back to full\r\n",
        "      top *= 4\r\n",
        "      right *= 4\r\n",
        "      bottom *= 4\r\n",
        "      left *= 4\r\n",
        "\r\n",
        "      cv2.rectangle(frame, (left, top), (right, bottom), (0,0,255), 2)\r\n",
        "      cv2.rectangle(frame, (left, bottom - 35), (right, bottom), (0,0,255), cv2.FILLED)\r\n",
        "      cv2.putText(frame, name, (left + 6, bottom - 6), cv2.FONT_HERSHEY_DUPLEX, 1.0, (255,255,255), 1)\r\n",
        "    \r\n",
        "    # Show the resulting image\r\n",
        "    cv2.imshow('Video', frame)\r\n",
        "\r\n",
        "    # Exit condition\r\n",
        "    if cv2.waitKey(1) & 0xFF == ord('q'): break\r\n",
        "\r\n",
        "  # Destroy the instances\r\n",
        "  video_capture.release()\r\n",
        "  cv2.destroyAllWindows()"
      ],
      "execution_count": 21,
      "outputs": []
    },
    {
      "cell_type": "code",
      "metadata": {
        "id": "WBxE_WC5arO0"
      },
      "source": [
        "# Controller instance\r\n",
        "c = FaceDetectionController(db={'database': '', 'user': '', 'password': '', 'host': '', 'port': '5432'}, schema_file='schema.sql')"
      ],
      "execution_count": null,
      "outputs": []
    },
    {
      "cell_type": "code",
      "metadata": {
        "id": "RYyDIO4BuHKR"
      },
      "source": [
        "# Add my face to the controller\r\n",
        "face_ethan = c.image_to_vector('ethan.png')\r\n",
        "user_ethan = c.get_user_by_face(face_ethan)\r\n",
        "\r\n",
        "# If the face is not known, let's add it\r\n",
        "if user_ethan is None:\r\n",
        "  user_ethan = c.create_user('Ethan')\r\n",
        "  face_id = c.create_face(user_ethan, face_ethan)"
      ],
      "execution_count": null,
      "outputs": []
    },
    {
      "cell_type": "code",
      "metadata": {
        "id": "Jj6njg4WwcQR"
      },
      "source": [
        "# Add the user to the runtime\r\n",
        "c.runtime_add_user(user_ethan)"
      ],
      "execution_count": null,
      "outputs": []
    },
    {
      "cell_type": "code",
      "metadata": {
        "id": "z3dsiLQPnf-u"
      },
      "source": [
        "# Run the detect webcam (You need an OpenCV capable machine to run this. Google Colab will not work!)\r\n",
        "webcam_detect(controller=c)"
      ],
      "execution_count": null,
      "outputs": []
    }
  ]
}